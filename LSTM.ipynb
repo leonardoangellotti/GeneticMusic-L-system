{
 "cells": [
  {
   "cell_type": "code",
   "execution_count": 47,
   "metadata": {},
   "outputs": [
    {
     "name": "stdout",
     "output_type": "stream",
     "text": [
      "Model: \"sequential_20\"\n",
      "_________________________________________________________________\n",
      " Layer (type)                Output Shape              Param #   \n",
      "=================================================================\n",
      " embedding_20 (Embedding)    (None, 64, 64)            8192      \n",
      "                                                                 \n",
      " lstm_40 (LSTM)              (None, 64, 128)           98816     \n",
      "                                                                 \n",
      " dropout_40 (Dropout)        (None, 64, 128)           0         \n",
      "                                                                 \n",
      " lstm_41 (LSTM)              (None, 128)               131584    \n",
      "                                                                 \n",
      " dropout_41 (Dropout)        (None, 128)               0         \n",
      "                                                                 \n",
      " dense_20 (Dense)            (None, 1)                 129       \n",
      "                                                                 \n",
      "=================================================================\n",
      "Total params: 238721 (932.50 KB)\n",
      "Trainable params: 238721 (932.50 KB)\n",
      "Non-trainable params: 0 (0.00 Byte)\n",
      "_________________________________________________________________\n",
      "Epoch 1/10\n",
      "25/25 [==============================] - 6s 119ms/step - loss: 0.0878 - mae: 0.2569 - val_loss: 0.0888 - val_mae: 0.2631\n",
      "Epoch 2/10\n",
      "25/25 [==============================] - 2s 63ms/step - loss: 0.0875 - mae: 0.2559 - val_loss: 0.0889 - val_mae: 0.2638\n",
      "Epoch 3/10\n",
      "25/25 [==============================] - 2s 62ms/step - loss: 0.0845 - mae: 0.2514 - val_loss: 0.0929 - val_mae: 0.2709\n",
      "Epoch 4/10\n",
      "25/25 [==============================] - 2s 64ms/step - loss: 0.0797 - mae: 0.2409 - val_loss: 0.0948 - val_mae: 0.2733\n",
      "Epoch 5/10\n",
      "25/25 [==============================] - 2s 61ms/step - loss: 0.0754 - mae: 0.2298 - val_loss: 0.0988 - val_mae: 0.2764\n",
      "Epoch 6/10\n",
      "25/25 [==============================] - 2s 61ms/step - loss: 0.0714 - mae: 0.2241 - val_loss: 0.1015 - val_mae: 0.2833\n",
      "Epoch 7/10\n",
      "25/25 [==============================] - 2s 63ms/step - loss: 0.0700 - mae: 0.2190 - val_loss: 0.1025 - val_mae: 0.2838\n",
      "Epoch 8/10\n",
      "25/25 [==============================] - 2s 70ms/step - loss: 0.0668 - mae: 0.2146 - val_loss: 0.0995 - val_mae: 0.2785\n",
      "Epoch 9/10\n",
      "25/25 [==============================] - 2s 67ms/step - loss: 0.0644 - mae: 0.2101 - val_loss: 0.1154 - val_mae: 0.2963\n",
      "Epoch 10/10\n",
      "25/25 [==============================] - 1s 60ms/step - loss: 0.0592 - mae: 0.1993 - val_loss: 0.1163 - val_mae: 0.2960\n"
     ]
    }
   ],
   "source": [
    "from keras.models import Sequential\n",
    "from keras.layers import LSTM, Dense, Dropout, Embedding\n",
    "import numpy as np\n",
    "\n",
    "np.random.seed(8293)\n",
    "\n",
    "# Sample parameters\n",
    "VOCAB_SIZE = 128  # MIDI notes range from 0 to 127\n",
    "SEQUENCE_LENGTH = 64  # Length of input sequences\n",
    "EMBEDDING_DIM = 64\n",
    "LSTM_UNITS = 128\n",
    "\n",
    "# Build the Model\n",
    "def build_midi_model(vocab_size, sequence_length, embedding_dim, lstm_units):\n",
    "    model = Sequential()\n",
    "    model.add(Embedding(input_dim=vocab_size, output_dim=embedding_dim, input_length=sequence_length))\n",
    "    model.add(LSTM(lstm_units, return_sequences=True))\n",
    "    model.add(Dropout(0.2))\n",
    "    model.add(LSTM(lstm_units))\n",
    "    model.add(Dropout(0.2))\n",
    "    model.add(Dense(1, activation='sigmoid'))  # Output a single score between 0 and 1\n",
    "    \n",
    "    model.compile(loss='mean_squared_error', optimizer='adam', metrics=['mae'])\n",
    "    return model\n",
    "\n",
    "# Example Usage\n",
    "model = build_midi_model(VOCAB_SIZE, SEQUENCE_LENGTH, EMBEDDING_DIM, LSTM_UNITS)\n",
    "model.summary()\n",
    "\n",
    "# Dummy data for training\n",
    "X = np.random.randint(0, VOCAB_SIZE, (1000, SEQUENCE_LENGTH))\n",
    "y = np.random.rand(1000)  # Random scores between 0 and 1\n",
    "\n",
    "# Train the model\n",
    "history = model.fit(X, y, epochs=10, batch_size=32, validation_split=0.2)\n",
    "\n",
    "# Save the model for future use\n",
    "model.save('evaluator_1.keras')"
   ]
  }
 ],
 "metadata": {
  "kernelspec": {
   "display_name": "Python 3",
   "language": "python",
   "name": "python3"
  },
  "language_info": {
   "codemirror_mode": {
    "name": "ipython",
    "version": 3
   },
   "file_extension": ".py",
   "mimetype": "text/x-python",
   "name": "python",
   "nbconvert_exporter": "python",
   "pygments_lexer": "ipython3",
   "version": "3.9.1"
  }
 },
 "nbformat": 4,
 "nbformat_minor": 2
}
